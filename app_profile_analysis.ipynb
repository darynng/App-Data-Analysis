{
 "cells": [
  {
   "cell_type": "markdown",
   "metadata": {},
   "source": [
    "Purpose: Identify app profiles that are profitable (more likely to attract users) for developers to make data-driven decisions in kind of apps they build.\n",
    "\n",
    "Dataset:\n",
    "- https://www.kaggle.com/datasets/lava18/google-play-store-apps\n",
    "- https://www.kaggle.com/datasets/ramamet4/app-store-apple-data-set-10k-apps"
   ]
  },
  {
   "cell_type": "code",
   "execution_count": 1,
   "metadata": {},
   "outputs": [],
   "source": [
    "import csv\n",
    "with open('AppleStore.csv') as file:\n",
    "    reader = csv.reader(file)\n",
    "    apple = list(reader)\n",
    "    apple_header = apple[0]\n",
    "    apple = apple[1:]\n",
    "    \n",
    "with open('googleplaystore.csv') as file:\n",
    "    reader = csv.reader(file)\n",
    "    android = list(reader)\n",
    "    android_header = android[0]\n",
    "    android = android[1:]"
   ]
  },
  {
   "cell_type": "markdown",
   "metadata": {},
   "source": [
    "Function used to display data samples:"
   ]
  },
  {
   "cell_type": "code",
   "execution_count": 2,
   "metadata": {},
   "outputs": [],
   "source": [
    "def display_data(dataset, start, end, row_and_column=False):\n",
    "    for row in dataset[start:end]:\n",
    "        print(row)\n",
    "        print('\\n')\n",
    "    if row_and_column:\n",
    "        print('Number of rows:', len(dataset))\n",
    "        print('Number of columns:', len(dataset[0]),'\\n')"
   ]
  },
  {
   "cell_type": "markdown",
   "metadata": {},
   "source": [
    "<b>Remove wrong entry (row 10472):</b><br>\n",
    "10841 is the original number of data samples in Android dataset."
   ]
  },
  {
   "cell_type": "code",
   "execution_count": 3,
   "metadata": {},
   "outputs": [],
   "source": [
    "if len(android) == 10841: #so this row is not deleted more than once\n",
    "    del android[10472] "
   ]
  },
  {
   "cell_type": "markdown",
   "metadata": {},
   "source": [
    "<b>Remove duplicates:</b>\n",
    "<br>Instead of removing duplicates randomly, we want to keep only the latest data entry, which is indicated by the highest review count.<br> A dictionary can be used to store each app’s name along with its highest review count, then only data entry with the name and review number matching those of the dictionary is added into the clean dataset.<br>\n",
    "First we count the number of duplicates to double check the clean dataset later."
   ]
  },
  {
   "cell_type": "code",
   "execution_count": 4,
   "metadata": {},
   "outputs": [
    {
     "name": "stdout",
     "output_type": "stream",
     "text": [
      "Number of Apple duplicates: 0\n",
      "Number of Android duplicates: 1181\n"
     ]
    }
   ],
   "source": [
    "duplicates_android = []\n",
    "unique_android = []\n",
    "\n",
    "for row in android:\n",
    "    name = row[0]\n",
    "    if name in unique_android:\n",
    "        duplicates_android.append(row)\n",
    "    else:\n",
    "        unique_android.append(name)\n",
    "\n",
    "duplicates_apple = []\n",
    "unique_apple = []\n",
    "for row in apple:\n",
    "    name = row[0]\n",
    "    if name in unique_apple:\n",
    "        duplicates_apple.append(row)\n",
    "    else:\n",
    "        unique_apple.append(name)\n",
    "\n",
    "print('Number of Apple duplicates:', len(duplicates_apple))\n",
    "print('Number of Android duplicates:', len(duplicates_android))"
   ]
  },
  {
   "cell_type": "code",
   "execution_count": 5,
   "metadata": {},
   "outputs": [
    {
     "name": "stdout",
     "output_type": "stream",
     "text": [
      "Length of clean Android dataset: 9659\n"
     ]
    }
   ],
   "source": [
    "reviews_max = {}\n",
    "android_clean = []\n",
    "already_added = []\n",
    "\n",
    "for row in android:\n",
    "    name = row[0]\n",
    "    reviews = int(row[3]) #convert string to integer\n",
    "    if name in reviews_max and reviews_max[name] < reviews:\n",
    "        reviews_max[name]=reviews #update review number\n",
    "    elif name not in reviews_max: \n",
    "        reviews_max[name]=reviews #add name and review number\n",
    "        \n",
    "for row in android:\n",
    "    name = row[0]\n",
    "    reviews = int(row[3])\n",
    "    if reviews == reviews_max[name] and name not in already_added:\n",
    "        android_clean.append(row)\n",
    "        already_added.append(name)\n",
    "\n",
    "print('Length of clean Android dataset:',len(android_clean))"
   ]
  },
  {
   "cell_type": "markdown",
   "metadata": {},
   "source": [
    "<b>Remove non-english apps:</b>\n",
    "<br>All English text are in the range 0 to 127, according to the ASCII.<br>\n",
    "Function below only returns False if more than 3 characters in the app name is out of range (so we do not remove app name with one emoji for example)."
   ]
  },
  {
   "cell_type": "code",
   "execution_count": 6,
   "metadata": {},
   "outputs": [
    {
     "name": "stdout",
     "output_type": "stream",
     "text": [
      "True\n",
      "True\n"
     ]
    }
   ],
   "source": [
    "def english_app(string):\n",
    "    non_english = 0\n",
    "    for i in string:\n",
    "        if ord(i)>127:\n",
    "            non_english+=1\n",
    "    if non_english > 3:\n",
    "        return False\n",
    "    else:\n",
    "        return True #after interating through the whole string\n",
    "    \n",
    "print(english_app('Instachat 😜'))\n",
    "print(english_app('爱奇艺PPS'))"
   ]
  },
  {
   "cell_type": "code",
   "execution_count": 7,
   "metadata": {},
   "outputs": [
    {
     "name": "stdout",
     "output_type": "stream",
     "text": [
      "Number of apps in Apple dataset: 7197\n",
      "Number of ios English apps: 6183\n",
      "Number of apps in Android unique dataset: 9659\n",
      "Number of Android English apps: 9614\n"
     ]
    }
   ],
   "source": [
    "ios_english = []\n",
    "android_english = []\n",
    "\n",
    "for row in apple:\n",
    "    if english_app(row[1]):\n",
    "        ios_english.append(row)\n",
    "        \n",
    "for row in android_clean:\n",
    "    if english_app(row[0]):\n",
    "        android_english.append(row)\n",
    "\n",
    "print('Number of apps in Apple dataset:', len(apple))\n",
    "print('Number of ios English apps:', len(ios_english))\n",
    "print('Number of apps in Android unique dataset:', len(android_clean))\n",
    "print('Number of Android English apps:', len(android_english))\n",
    "        "
   ]
  },
  {
   "cell_type": "markdown",
   "metadata": {},
   "source": [
    "<b>Isolate free apps:</b><br>We only focus on free apps since they obviously attract more users. \n",
    "Price data is #4 entry for ios and #7 entry for android."
   ]
  },
  {
   "cell_type": "code",
   "execution_count": 8,
   "metadata": {},
   "outputs": [
    {
     "name": "stdout",
     "output_type": "stream",
     "text": [
      "Final ios apps: 3222\n",
      "Final android apps: 8864\n"
     ]
    }
   ],
   "source": [
    "ios_final = []\n",
    "android_final = []\n",
    "\n",
    "for row in ios_english:\n",
    "    if row[4] == '0.0':\n",
    "        ios_final.append(row)\n",
    "        \n",
    "for row in android_english:\n",
    "    if row[7] == '0':\n",
    "        android_final.append(row)\n",
    "        \n",
    "print('Final ios apps:', len(ios_final))\n",
    "print('Final android apps:', len(android_final))"
   ]
  },
  {
   "cell_type": "markdown",
   "metadata": {},
   "source": [
    "<b>Identify genre with most apps</b>\n",
    "\n",
    "Genre: #11 for ios and #1, #10 for android. <br>\n",
    "<br>\n",
    "To build frequency table, we need two functions:\n",
    "<br>\n",
    " - Function 1: for each genre in dataset, count its number of occurrence, save both to a dictionary, then convert all occurence number to percentage.\n",
    "<br>\n",
    " - Function 2: sorts a dictionary by its values in descending order, stores the result as a list of tuples, print."
   ]
  },
  {
   "cell_type": "code",
   "execution_count": 9,
   "metadata": {},
   "outputs": [],
   "source": [
    "def percentage_table(dataset, i):\n",
    "    table = {} #key:genre, value: occurence\n",
    "    percentage_table = {} #key:genre, value: occurrence percentage\n",
    "    \n",
    "    for row in dataset: #count occurrence\n",
    "        genre = row[i]\n",
    "        if genre in table:\n",
    "            table[genre] +=1\n",
    "        else:\n",
    "            table[genre] = 1\n",
    "    \n",
    "    for genre in table: #convert occurrence into percentage\n",
    "        percentage = round(table[genre]/len(dataset)*100, 2)\n",
    "        percentage_table[genre] = percentage\n",
    "    \n",
    "    return percentage_table\n",
    "\n",
    "def frequency_table(dataset, i): #sort frequency in descending order\n",
    "    table = percentage_table(dataset, i)\n",
    "    \n",
    "    table_tuple = table.items()\n",
    "    sorted_table = sorted(table_tuple, key=lambda x: x[1], reverse=True)\n",
    "\n",
    "    for key, value in sorted_table:\n",
    "        print(f\"{key}: {value}%\")"
   ]
  },
  {
   "cell_type": "markdown",
   "metadata": {},
   "source": [
    "<b>Analyze IOS frequency table</b>"
   ]
  },
  {
   "cell_type": "code",
   "execution_count": 10,
   "metadata": {
    "scrolled": true
   },
   "outputs": [
    {
     "name": "stdout",
     "output_type": "stream",
     "text": [
      "['id', 'track_name', 'size_bytes', 'currency', 'price', 'rating_count_tot', 'rating_count_ver', 'user_rating', 'user_rating_ver', 'ver', 'cont_rating', 'prime_genre', 'sup_devices.num', 'ipadSc_urls.num', 'lang.num', 'vpp_lic']\n"
     ]
    }
   ],
   "source": [
    "print(apple_header)"
   ]
  },
  {
   "cell_type": "code",
   "execution_count": 11,
   "metadata": {},
   "outputs": [
    {
     "name": "stdout",
     "output_type": "stream",
     "text": [
      "Games: 58.16%\n",
      "Entertainment: 7.88%\n",
      "Photo & Video: 4.97%\n",
      "Education: 3.66%\n",
      "Social Networking: 3.29%\n",
      "Shopping: 2.61%\n",
      "Utilities: 2.51%\n",
      "Sports: 2.14%\n",
      "Music: 2.05%\n",
      "Health & Fitness: 2.02%\n",
      "Productivity: 1.74%\n",
      "Lifestyle: 1.58%\n",
      "News: 1.33%\n",
      "Travel: 1.24%\n",
      "Finance: 1.12%\n",
      "Weather: 0.87%\n",
      "Food & Drink: 0.81%\n",
      "Reference: 0.56%\n",
      "Business: 0.53%\n",
      "Book: 0.43%\n",
      "Navigation: 0.19%\n",
      "Medical: 0.19%\n",
      "Catalogs: 0.12%\n"
     ]
    }
   ],
   "source": [
    "frequency_table(ios_final, -5)"
   ]
  },
  {
   "cell_type": "markdown",
   "metadata": {},
   "source": [
    "We can see that among the free ios English apps, more than a half (58.16%) are games. Entertainment apps are close to 8%.\n",
    "\n",
    "App Store (at least the part containing free English apps) is dominated by apps that are designed for fun (games, entertainment, photo and video, social networking, sports, music, etc.), while apps with practical purposes are more rare. \n",
    "\n",
    "<b>Analyze Android's frequency table</b>"
   ]
  },
  {
   "cell_type": "code",
   "execution_count": 12,
   "metadata": {
    "scrolled": true
   },
   "outputs": [
    {
     "name": "stdout",
     "output_type": "stream",
     "text": [
      "['App', 'Category', 'Rating', 'Reviews', 'Size', 'Installs', 'Type', 'Price', 'Content Rating', 'Genres', 'Last Updated', 'Current Ver', 'Android Ver']\n"
     ]
    }
   ],
   "source": [
    "print(android_header)"
   ]
  },
  {
   "cell_type": "code",
   "execution_count": 13,
   "metadata": {},
   "outputs": [
    {
     "name": "stdout",
     "output_type": "stream",
     "text": [
      "Android Category Popularity\n",
      "FAMILY: 18.91%\n",
      "GAME: 9.72%\n",
      "TOOLS: 8.46%\n",
      "BUSINESS: 4.59%\n",
      "LIFESTYLE: 3.9%\n",
      "PRODUCTIVITY: 3.89%\n",
      "FINANCE: 3.7%\n",
      "MEDICAL: 3.53%\n",
      "SPORTS: 3.4%\n",
      "PERSONALIZATION: 3.32%\n",
      "COMMUNICATION: 3.24%\n",
      "HEALTH_AND_FITNESS: 3.08%\n",
      "PHOTOGRAPHY: 2.94%\n",
      "NEWS_AND_MAGAZINES: 2.8%\n",
      "SOCIAL: 2.66%\n",
      "TRAVEL_AND_LOCAL: 2.34%\n",
      "SHOPPING: 2.25%\n",
      "BOOKS_AND_REFERENCE: 2.14%\n",
      "DATING: 1.86%\n",
      "VIDEO_PLAYERS: 1.79%\n",
      "MAPS_AND_NAVIGATION: 1.4%\n",
      "FOOD_AND_DRINK: 1.24%\n",
      "EDUCATION: 1.16%\n",
      "ENTERTAINMENT: 0.96%\n",
      "LIBRARIES_AND_DEMO: 0.94%\n",
      "AUTO_AND_VEHICLES: 0.93%\n",
      "HOUSE_AND_HOME: 0.82%\n",
      "WEATHER: 0.8%\n",
      "EVENTS: 0.71%\n",
      "PARENTING: 0.65%\n",
      "ART_AND_DESIGN: 0.64%\n",
      "COMICS: 0.62%\n",
      "BEAUTY: 0.6%\n"
     ]
    }
   ],
   "source": [
    "print(\"Android Category Popularity\")\n",
    "frequency_table(android_final, 1)"
   ]
  },
  {
   "cell_type": "markdown",
   "metadata": {},
   "source": [
    "For Google Play: not many apps designed for fun, a good number of apps are designed for practical purposes (family, tools, business, lifestyle, productivity, etc.). However, if we investigate this further, family category (which accounts for almost 19% of the apps) means mostly games for kids."
   ]
  },
  {
   "cell_type": "markdown",
   "metadata": {},
   "source": [
    "Practical apps seem to have a better representation on Google Play compared to App Store. This picture is also confirmed by the frequency table we see for the Genres column:"
   ]
  },
  {
   "cell_type": "code",
   "execution_count": 14,
   "metadata": {},
   "outputs": [
    {
     "name": "stdout",
     "output_type": "stream",
     "text": [
      "Android Genre Popularity\n",
      "Tools: 8.45%\n",
      "Entertainment: 6.07%\n",
      "Education: 5.35%\n",
      "Business: 4.59%\n",
      "Lifestyle: 3.89%\n",
      "Productivity: 3.89%\n",
      "Finance: 3.7%\n",
      "Medical: 3.53%\n",
      "Sports: 3.46%\n",
      "Personalization: 3.32%\n",
      "Communication: 3.24%\n",
      "Action: 3.1%\n",
      "Health & Fitness: 3.08%\n",
      "Photography: 2.94%\n",
      "News & Magazines: 2.8%\n",
      "Social: 2.66%\n",
      "Travel & Local: 2.32%\n",
      "Shopping: 2.25%\n",
      "Books & Reference: 2.14%\n",
      "Simulation: 2.04%\n",
      "Dating: 1.86%\n",
      "Arcade: 1.85%\n",
      "Video Players & Editors: 1.77%\n",
      "Casual: 1.76%\n",
      "Maps & Navigation: 1.4%\n",
      "Food & Drink: 1.24%\n",
      "Puzzle: 1.13%\n",
      "Racing: 0.99%\n",
      "Libraries & Demo: 0.94%\n",
      "Role Playing: 0.94%\n",
      "Auto & Vehicles: 0.93%\n",
      "Strategy: 0.91%\n",
      "House & Home: 0.82%\n",
      "Weather: 0.8%\n",
      "Events: 0.71%\n",
      "Adventure: 0.68%\n",
      "Comics: 0.61%\n",
      "Art & Design: 0.6%\n",
      "Beauty: 0.6%\n",
      "Parenting: 0.5%\n",
      "Card: 0.45%\n",
      "Casino: 0.43%\n",
      "Trivia: 0.42%\n",
      "Educational;Education: 0.39%\n",
      "Board: 0.38%\n",
      "Educational: 0.37%\n",
      "Education;Education: 0.34%\n",
      "Word: 0.26%\n",
      "Casual;Pretend Play: 0.24%\n",
      "Music: 0.2%\n",
      "Entertainment;Music & Video: 0.17%\n",
      "Puzzle;Brain Games: 0.17%\n",
      "Racing;Action & Adventure: 0.17%\n",
      "Casual;Brain Games: 0.14%\n",
      "Casual;Action & Adventure: 0.14%\n",
      "Arcade;Action & Adventure: 0.12%\n",
      "Action;Action & Adventure: 0.1%\n",
      "Educational;Pretend Play: 0.09%\n",
      "Entertainment;Brain Games: 0.08%\n",
      "Simulation;Action & Adventure: 0.08%\n",
      "Board;Brain Games: 0.08%\n",
      "Parenting;Education: 0.08%\n",
      "Art & Design;Creativity: 0.07%\n",
      "Educational;Brain Games: 0.07%\n",
      "Casual;Creativity: 0.07%\n",
      "Parenting;Music & Video: 0.07%\n",
      "Education;Pretend Play: 0.06%\n",
      "Education;Creativity: 0.05%\n",
      "Role Playing;Pretend Play: 0.05%\n",
      "Education;Brain Games: 0.03%\n",
      "Entertainment;Creativity: 0.03%\n",
      "Educational;Creativity: 0.03%\n",
      "Adventure;Action & Adventure: 0.03%\n",
      "Role Playing;Action & Adventure: 0.03%\n",
      "Educational;Action & Adventure: 0.03%\n",
      "Entertainment;Action & Adventure: 0.03%\n",
      "Puzzle;Action & Adventure: 0.03%\n",
      "Education;Action & Adventure: 0.03%\n",
      "Education;Music & Video: 0.03%\n",
      "Casual;Education: 0.02%\n",
      "Music;Music & Video: 0.02%\n",
      "Simulation;Pretend Play: 0.02%\n",
      "Puzzle;Creativity: 0.02%\n",
      "Sports;Action & Adventure: 0.02%\n",
      "Board;Action & Adventure: 0.02%\n",
      "Entertainment;Pretend Play: 0.02%\n",
      "Video Players & Editors;Music & Video: 0.02%\n",
      "Comics;Creativity: 0.01%\n",
      "Lifestyle;Pretend Play: 0.01%\n",
      "Art & Design;Pretend Play: 0.01%\n",
      "Entertainment;Education: 0.01%\n",
      "Arcade;Pretend Play: 0.01%\n",
      "Art & Design;Action & Adventure: 0.01%\n",
      "Strategy;Action & Adventure: 0.01%\n",
      "Music & Audio;Music & Video: 0.01%\n",
      "Health & Fitness;Education: 0.01%\n",
      "Casual;Music & Video: 0.01%\n",
      "Travel & Local;Action & Adventure: 0.01%\n",
      "Tools;Education: 0.01%\n",
      "Parenting;Brain Games: 0.01%\n",
      "Video Players & Editors;Creativity: 0.01%\n",
      "Health & Fitness;Action & Adventure: 0.01%\n",
      "Trivia;Education: 0.01%\n",
      "Lifestyle;Education: 0.01%\n",
      "Card;Action & Adventure: 0.01%\n",
      "Books & Reference;Education: 0.01%\n",
      "Simulation;Education: 0.01%\n",
      "Puzzle;Education: 0.01%\n",
      "Adventure;Education: 0.01%\n",
      "Role Playing;Brain Games: 0.01%\n",
      "Strategy;Education: 0.01%\n",
      "Racing;Pretend Play: 0.01%\n",
      "Communication;Creativity: 0.01%\n",
      "Strategy;Creativity: 0.01%\n"
     ]
    }
   ],
   "source": [
    "print(\"Android Genre Popularity\")\n",
    "frequency_table(android_final, -4)"
   ]
  },
  {
   "cell_type": "markdown",
   "metadata": {},
   "source": [
    "Since Genres column is much more granular (it has more categories), but we're only looking for the bigger picture at the moment, we'll only work with Category moving forward.\n",
    "\n",
    "Conclusion from frequency tables: App Store is dominated by apps designed for fun, while Google Play shows a more balanced landscape of both practical and for-fun apps.\n",
    "\n",
    "<b>Identify most popular app genre</b>\n",
    "\n",
    " - Android dataset: Install number.\n",
    " - IOS dataset: Install number is missing so we use rating number instead. We will calculate the average number of user ratings per genre."
   ]
  },
  {
   "cell_type": "code",
   "execution_count": 15,
   "metadata": {},
   "outputs": [
    {
     "name": "stdout",
     "output_type": "stream",
     "text": [
      "Social Networking: 71548\n",
      "Photo & Video: 28442\n",
      "Games: 22789\n",
      "Music: 57327\n",
      "Reference: 74942\n",
      "Health & Fitness: 23298\n",
      "Weather: 52280\n",
      "Utilities: 18684\n",
      "Travel: 28244\n",
      "Shopping: 26920\n",
      "News: 21248\n",
      "Navigation: 86090\n",
      "Lifestyle: 16486\n",
      "Entertainment: 14030\n",
      "Food & Drink: 33334\n",
      "Sports: 23009\n",
      "Book: 39758\n",
      "Finance: 31468\n",
      "Education: 7004\n",
      "Productivity: 21028\n",
      "Business: 7491\n",
      "Catalogs: 4004\n",
      "Medical: 612\n",
      "\n",
      "Most downloaded ios genre: Navigation\n"
     ]
    }
   ],
   "source": [
    "ios_genre = percentage_table(ios_final, -5)\n",
    "max_num_ratings = 0\n",
    "most_common = \"\"\n",
    "\n",
    "for genre in ios_genre: \n",
    "    genre_ratings = 0 #number of ratings of each app in genre\n",
    "    genre_apps = 0 #number of apps in the genre\n",
    "    for row in ios_final:\n",
    "        genre_name = row[-5]\n",
    "        rating_count = row[5]\n",
    "        if genre_name == genre:\n",
    "            genre_ratings += float(rating_count) #add app's ratings to genre's ratings\n",
    "            genre_apps +=1\n",
    "    avg_num_ratings = round(genre_ratings / genre_apps)\n",
    "    print(f\"{genre}: {avg_num_ratings}\")\n",
    "    if avg_num_ratings > max_num_ratings:\n",
    "        max_num_ratings = avg_num_ratings\n",
    "        most_common = genre #not genre_name \n",
    "\n",
    "print(f\"\\nMost downloaded ios genre: {most_common}\")"
   ]
  },
  {
   "cell_type": "markdown",
   "metadata": {},
   "source": [
    "Runner-up: Reference"
   ]
  },
  {
   "cell_type": "code",
   "execution_count": 16,
   "metadata": {},
   "outputs": [
    {
     "name": "stdout",
     "output_type": "stream",
     "text": [
      "Waze - GPS Navigation, Maps & Real-time Traffic : 345046\n",
      "Google Maps - Navigation & Transit : 154911\n",
      "Geocaching® : 12811\n",
      "\n",
      "50% have over 10,000 ratings\n",
      "\n",
      "33% have less than 1000 ratings\n"
     ]
    }
   ],
   "source": [
    "giants = 0\n",
    "total = 0\n",
    "struggle = 0\n",
    "\n",
    "for app in ios_final:\n",
    "    if app[-5] == 'Navigation':\n",
    "        total += 1\n",
    "        if(float(app[5]) >= 10000):\n",
    "            giants += 1\n",
    "            print(app[1], ':', app[5])\n",
    "        elif(float(app[5]) <= 1000):\n",
    "            struggle +=1\n",
    "            \n",
    "print(f\"\\n{round(giants/total*100)}% have over 10,000 ratings\")\n",
    "print(f\"\\n{round(struggle/total*100)}% have less than 1000 ratings\")"
   ]
  },
  {
   "cell_type": "markdown",
   "metadata": {},
   "source": [
    "<b>Concern</b> \n",
    "\n",
    "Only half of the navigation apps does well while over 30% does poorly."
   ]
  },
  {
   "cell_type": "code",
   "execution_count": 17,
   "metadata": {},
   "outputs": [
    {
     "name": "stdout",
     "output_type": "stream",
     "text": [
      "ART_AND_DESIGN: 1986335\n",
      "AUTO_AND_VEHICLES: 647318\n",
      "BEAUTY: 513152\n",
      "BOOKS_AND_REFERENCE: 8767812\n",
      "BUSINESS: 1712290\n",
      "COMICS: 817657\n",
      "COMMUNICATION: 38456119\n",
      "DATING: 854029\n",
      "EDUCATION: 1833495\n",
      "ENTERTAINMENT: 11640706\n",
      "EVENTS: 253542\n",
      "FINANCE: 1387692\n",
      "FOOD_AND_DRINK: 1924898\n",
      "HEALTH_AND_FITNESS: 4188822\n",
      "HOUSE_AND_HOME: 1331541\n",
      "LIBRARIES_AND_DEMO: 638504\n",
      "LIFESTYLE: 1437816\n",
      "GAME: 15588016\n",
      "FAMILY: 3695642\n",
      "MEDICAL: 120551\n",
      "SOCIAL: 23253652\n",
      "SHOPPING: 7036877\n",
      "PHOTOGRAPHY: 17840110\n",
      "SPORTS: 3638640\n",
      "TRAVEL_AND_LOCAL: 13984078\n",
      "TOOLS: 10801391\n",
      "PERSONALIZATION: 5201483\n",
      "PRODUCTIVITY: 16787331\n",
      "PARENTING: 542604\n",
      "WEATHER: 5074486\n",
      "VIDEO_PLAYERS: 24727872\n",
      "NEWS_AND_MAGAZINES: 9549178\n",
      "MAPS_AND_NAVIGATION: 4056942\n",
      "\n",
      "Most downloaded Android genre: COMMUNICATION\n"
     ]
    }
   ],
   "source": [
    "android_category = percentage_table(android_final, 1)\n",
    "max_installs = 0\n",
    "most_common = \"\"\n",
    "\n",
    "for category in android_category:\n",
    "    category_installs = 0\n",
    "    category_apps = 0\n",
    "    for row in android_final:\n",
    "        app_category = row[1]\n",
    "        if app_category == category:\n",
    "            installs = row[5].replace(\"+\",\"\")\n",
    "            installs = installs.replace(\",\",\"\")\n",
    "            category_installs += float(installs)\n",
    "            category_apps +=1\n",
    "    avg_installs = round(category_installs / category_apps) \n",
    "    print(f\"{category}: {avg_installs}\")\n",
    "    if avg_installs > max_installs:\n",
    "        max_installs = avg_installs\n",
    "        most_common = category\n",
    "\n",
    "print(f\"\\nMost downloaded Android genre: {most_common}\")"
   ]
  },
  {
   "cell_type": "code",
   "execution_count": 18,
   "metadata": {
    "scrolled": true
   },
   "outputs": [
    {
     "name": "stdout",
     "output_type": "stream",
     "text": [
      "WhatsApp Messenger : 1,000,000,000+\n",
      "imo beta free calls and text : 100,000,000+\n",
      "Android Messages : 100,000,000+\n",
      "Google Duo - High Quality Video Calls : 500,000,000+\n",
      "Messenger – Text and Video Chat for Free : 1,000,000,000+\n",
      "imo free video calls and chat : 500,000,000+\n",
      "Skype - free IM & video calls : 1,000,000,000+\n",
      "Who : 100,000,000+\n",
      "GO SMS Pro - Messenger, Free Themes, Emoji : 100,000,000+\n",
      "LINE: Free Calls & Messages : 500,000,000+\n",
      "Google Chrome: Fast & Secure : 1,000,000,000+\n",
      "Firefox Browser fast & private : 100,000,000+\n",
      "UC Browser - Fast Download Private & Secure : 500,000,000+\n",
      "Gmail : 1,000,000,000+\n",
      "Hangouts : 1,000,000,000+\n",
      "Messenger Lite: Free Calls & Messages : 100,000,000+\n",
      "Kik : 100,000,000+\n",
      "KakaoTalk: Free Calls & Text : 100,000,000+\n",
      "Opera Mini - fast web browser : 100,000,000+\n",
      "Opera Browser: Fast and Secure : 100,000,000+\n",
      "Telegram : 100,000,000+\n",
      "Truecaller: Caller ID, SMS spam blocking & Dialer : 100,000,000+\n",
      "UC Browser Mini -Tiny Fast Private & Secure : 100,000,000+\n",
      "Viber Messenger : 500,000,000+\n",
      "WeChat : 100,000,000+\n",
      "Yahoo Mail – Stay Organized : 100,000,000+\n",
      "BBM - Free Calls & Messages : 100,000,000+\n",
      "\n",
      "Only 9% have over 100,000,000 installs\n"
     ]
    }
   ],
   "source": [
    "giants = 0\n",
    "communication_app = 0\n",
    "\n",
    "for app in android_final:\n",
    "    if app[1] == 'COMMUNICATION':\n",
    "        communication_app += 1\n",
    "        if(app[5] == '1,000,000,000+' or app[5] == '500,000,000+'or app[5] == '100,000,000+'):\n",
    "            giants += 1\n",
    "            print(app[0], ':', app[5])\n",
    "            \n",
    "print(f\"\\nOnly {round(giants/communication_app*100)}% have over 100,000,000 installs\")"
   ]
  },
  {
   "cell_type": "markdown",
   "metadata": {},
   "source": [
    "<b>Concern</b> \n",
    "\n",
    "This category install number is heavily skewed up by only a few apps that have over one billion installs. "
   ]
  },
  {
   "cell_type": "markdown",
   "metadata": {},
   "source": [
    "We see the same pattern for the video players category - dominated by Youtube, Google Play Movies & TV, or MX Player; social apps (Facebook, Instagram, Google+, etc.); photography apps (Google Photos and other popular photo editors), or productivity apps (Microsoft Word, Dropbox, Google Calendar, Evernote, etc.).\n",
    "\n",
    "These app genres might seem more popular than they really are! \n",
    "\n",
    "The game category seems popular, however, the frequency tables showed the market is already pretty saturated.\n",
    "\n",
    "<b>Solution</b>\n",
    "\n",
    "Let's focus on app categories that are both popular and not yet saturated with existing apps.\n",
    "\n",
    "The books and reference genre looks fairly popular as well, with an average number of installs of 8,767,812. \n",
    "\n",
    "We found that this genre has some potential to work well on the App Store, now we need to figure if it's also profitable Google Play.\n",
    "\n",
    "Let's take a look at some of the apps from this genre and their number of installs:"
   ]
  },
  {
   "cell_type": "code",
   "execution_count": 22,
   "metadata": {},
   "outputs": [
    {
     "name": "stdout",
     "output_type": "stream",
     "text": [
      "Google Play Books : 1,000,000,000+\n",
      "Bible : 100,000,000+\n",
      "Amazon Kindle : 100,000,000+\n",
      "Wattpad 📖 Free Books : 100,000,000+\n",
      "Audiobooks from Audible : 100,000,000+\n",
      "1% are giants\n"
     ]
    }
   ],
   "source": [
    "giants = 0\n",
    "for app in android_final:\n",
    "    if app[1] == 'BOOKS_AND_REFERENCE':\n",
    "        total +=1\n",
    "        if (app[5] == '1,000,000,000+' or app[5] == '500,000,000+'or app[5] == '100,000,000+'):\n",
    "            giants += 1\n",
    "            print(app[0], ':', app[5])\n",
    "print(f\"{round(giants/total*100)}% are popular\")"
   ]
  },
  {
   "cell_type": "markdown",
   "metadata": {},
   "source": [
    "Since we only see a few that are popular, this market has great potential.\n",
    "\n",
    "<b>Conclusions</b>\n",
    "In this project, we analyzed App Store and Google Play mobile apps data to identify an app profile that can be profitable for both markets.\n",
    "\n",
    "We concluded that a free app with a wide variety of books could be profitable for both the Google Play and the App Store markets. However, nearly 3% of the markets are libraries, adding some special features besides the raw version of the book would be beneficial."
   ]
  }
 ],
 "metadata": {
  "kernelspec": {
   "display_name": "Python 3",
   "language": "python",
   "name": "python3"
  },
  "language_info": {
   "codemirror_mode": {
    "name": "ipython",
    "version": 3
   },
   "file_extension": ".py",
   "mimetype": "text/x-python",
   "name": "python",
   "nbconvert_exporter": "python",
   "pygments_lexer": "ipython3",
   "version": "3.8.2"
  }
 },
 "nbformat": 4,
 "nbformat_minor": 2
}
